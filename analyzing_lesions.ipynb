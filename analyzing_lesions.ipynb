{
 "cells": [
  {
   "cell_type": "code",
   "execution_count": 1,
   "metadata": {
    "collapsed": true
   },
   "outputs": [],
   "source": [
    "import numpy as np\n",
    "import pandas as pd"
   ]
  },
  {
   "cell_type": "code",
   "execution_count": 91,
   "metadata": {
    "collapsed": false
   },
   "outputs": [
    {
     "data": {
      "text/html": [
       "<div>\n",
       "<table border=\"1\" class=\"dataframe\">\n",
       "  <thead>\n",
       "    <tr style=\"text-align: right;\">\n",
       "      <th></th>\n",
       "      <th></th>\n",
       "      <th>distance from gray matter</th>\n",
       "      <th>distance from midbrain</th>\n",
       "      <th>distance from ventricles</th>\n",
       "      <th>volume</th>\n",
       "    </tr>\n",
       "    <tr>\n",
       "      <th>lesion</th>\n",
       "      <th>center coordinates</th>\n",
       "      <th></th>\n",
       "      <th></th>\n",
       "      <th></th>\n",
       "      <th></th>\n",
       "    </tr>\n",
       "  </thead>\n",
       "  <tbody>\n",
       "    <tr>\n",
       "      <th>12</th>\n",
       "      <th>[150, 117, 151]</th>\n",
       "      <td>0.000</td>\n",
       "      <td>55.118</td>\n",
       "      <td>10.817</td>\n",
       "      <td>99</td>\n",
       "    </tr>\n",
       "    <tr>\n",
       "      <th>14</th>\n",
       "      <th>[158, 111, 111]</th>\n",
       "      <td>0.000</td>\n",
       "      <td>47.466</td>\n",
       "      <td>18.601</td>\n",
       "      <td>180</td>\n",
       "    </tr>\n",
       "    <tr>\n",
       "      <th>15</th>\n",
       "      <th>[171, 131, 80]</th>\n",
       "      <td>0.000</td>\n",
       "      <td>49.406</td>\n",
       "      <td>24.495</td>\n",
       "      <td>133</td>\n",
       "    </tr>\n",
       "    <tr>\n",
       "      <th>16</th>\n",
       "      <th>[179, 149, 141]</th>\n",
       "      <td>1.732</td>\n",
       "      <td>44.833</td>\n",
       "      <td>38.184</td>\n",
       "      <td>103</td>\n",
       "    </tr>\n",
       "  </tbody>\n",
       "</table>\n",
       "</div>"
      ],
      "text/plain": [
       "                           distance from gray matter  distance from midbrain  \\\n",
       "lesion center coordinates                                                      \n",
       "12     [150, 117, 151]                         0.000                  55.118   \n",
       "14     [158, 111, 111]                         0.000                  47.466   \n",
       "15     [171, 131, 80]                          0.000                  49.406   \n",
       "16     [179, 149, 141]                         1.732                  44.833   \n",
       "\n",
       "                           distance from ventricles  volume  \n",
       "lesion center coordinates                                    \n",
       "12     [150, 117, 151]                       10.817      99  \n",
       "14     [158, 111, 111]                       18.601     180  \n",
       "15     [171, 131, 80]                        24.495     133  \n",
       "16     [179, 149, 141]                       38.184     103  "
      ]
     },
     "execution_count": 91,
     "metadata": {},
     "output_type": "execute_result"
    }
   ],
   "source": [
    "df = pd.DataFrame.from_csv(\"lesion_info.csv\",index_col=False)\n",
    "df.drop(df.columns[[0,2,3,4,5,6]],axis=1,inplace=True)\n",
    "df1 = pd.pivot_table(df, values=[\"volume\",\"distance from midbrain\",\"distance from ventricles\",\"distance from gray matter\"], index = [\"mseID\",\"type\",\"lesion\",\"center coordinates\"])\n",
    "df1.xs(('mse1003',\"juxtacortical\"))\n",
    "#df1"
   ]
  },
  {
   "cell_type": "code",
   "execution_count": null,
   "metadata": {
    "collapsed": true
   },
   "outputs": [],
   "source": []
  }
 ],
 "metadata": {
  "kernelspec": {
   "display_name": "Python 2",
   "language": "python",
   "name": "python2"
  },
  "language_info": {
   "codemirror_mode": {
    "name": "ipython",
    "version": 2
   },
   "file_extension": ".py",
   "mimetype": "text/x-python",
   "name": "python",
   "nbconvert_exporter": "python",
   "pygments_lexer": "ipython2",
   "version": "2.7.11"
  }
 },
 "nbformat": 4,
 "nbformat_minor": 0
}
