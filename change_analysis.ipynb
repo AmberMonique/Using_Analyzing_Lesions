{
 "cells": [
  {
   "cell_type": "code",
   "execution_count": 2,
   "metadata": {
    "collapsed": false
   },
   "outputs": [],
   "source": [
    "import pandas as pd\n",
    "import numpy as np\n",
    "import glob\n",
    "import nibabel as nib\n",
    "from scipy.ndimage import label\n",
    "from numpy.linalg import inv"
   ]
  },
  {
   "cell_type": "markdown",
   "metadata": {},
   "source": [
    "## msid + mseid data"
   ]
  },
  {
   "cell_type": "code",
   "execution_count": 7,
   "metadata": {
    "collapsed": false
   },
   "outputs": [],
   "source": [
    "#Construct data table\n",
    "data_cols = [\"msid\",\n",
    "             \"tot_years_gt1_lesion_present\",\n",
    "             \"inf_years_gt1_lesion_present\",\n",
    "             \"jux_years_gt1_lesion_present\",\n",
    "             \"per_years_gt1_lesion_present\",\n",
    "             \"sub_years_gt1_lesion_present\",\n",
    "             \"tot_lesion_presentation\",\n",
    "             \"inf_lesion_presentation\",\n",
    "             \"jux_lesion_presentation\",\n",
    "             \"per_lesion_presentation\",\n",
    "             \"sub_lesion_presentation\",\n",
    "             \"comparison\",\n",
    "             \"tot_lesion_change_percent\",\n",
    "             \"tot_lesion_change_absolute\",\n",
    "             \"tot_lesion_vol_change_percent\",\n",
    "             \"tot_lesion_vol_change_absolute\",\n",
    "             \"inf_lesion_change_percent\",\n",
    "             \"inf_lesion_change_absolute\",\n",
    "             \"inf_lesion_vol_change_percent\",\n",
    "             \"inf_lesion_vol_change_absolute\",\n",
    "             \"jux_lesion_change_percent\",\n",
    "             \"jux_lesion_change_absolute\",\n",
    "             \"jux_lesion_vol_change_percent\",\n",
    "             \"jux_lesion_vol_change_absolute\",\n",
    "             \"per_lesion_change_percent\",\n",
    "             \"per_lesion_change_absolute\",\n",
    "             \"per_lesion_vol_change_percent\",\n",
    "             \"per_lesion_vol_change_absolute\",\n",
    "             \"sub_lesion_change_percent\",\n",
    "             \"sub_lesion_change_absolute\",\n",
    "             \"sub_lesion_vol_change_percent\",\n",
    "             \"sub_lesion_vol_change_absolute\",\n",
    "             \"tot_number_increasing_0\",\n",
    "             \"tot_number_increasing_10\",\n",
    "             \"tot_number_increasing_20\",\n",
    "             \"tot_number_increasing_50\",\n",
    "             \"tot_number_increasing_100\",\n",
    "             \"inf_number_increasing_0\",\n",
    "             \"inf_number_increasing_10\",\n",
    "             \"inf_number_increasing_20\",\n",
    "             \"inf_number_increasing_50\",\n",
    "             \"inf_number_increasing_100\",\n",
    "             \"jux_number_increasing_0\",\n",
    "             \"jux_number_increasing_10\",\n",
    "             \"jux_number_increasing_20\",\n",
    "             \"jux_number_increasing_50\",\n",
    "             \"jux_number_increasing_100\",\n",
    "             \"per_number_increasing_0\",\n",
    "             \"per_number_increasing_10\",\n",
    "             \"per_number_increasing_20\",\n",
    "             \"per_number_increasing_50\",\n",
    "             \"per_number_increasing_100\",\n",
    "             \"sub_number_increasing_0\",\n",
    "             \"sub_number_increasing_10\",\n",
    "             \"sub_number_increasing_20\",\n",
    "             \"sub_number_increasing_50\",\n",
    "             \"sub_number_increasing_100\",\n",
    "             \"tot_number_decreasing_0\",\n",
    "             \"tot_number_decreasing_10\",\n",
    "             \"tot_number_decreasing_20\",\n",
    "             \"tot_number_decreasing_50\",\n",
    "             \"tot_number_decreasing_100\",\n",
    "             \"inf_number_decreasing_0\",\n",
    "             \"inf_number_decreasing_10\",\n",
    "             \"inf_number_decreasing_20\",\n",
    "             \"inf_number_decreasing_50\",\n",
    "             \"inf_number_decreasing_100\",\n",
    "             \"jux_number_decreasing_0\",\n",
    "             \"jux_number_decreasing_10\",\n",
    "             \"jux_number_decreasing_20\",\n",
    "             \"jux_number_decreasing_50\",\n",
    "             \"jux_number_decreasing_100\",\n",
    "             \"per_number_decreasing_0\",\n",
    "             \"per_number_decreasing_10\",\n",
    "             \"per_number_decreasing_20\",\n",
    "             \"per_number_decreasing_50\",\n",
    "             \"per_number_decreasing_100\",\n",
    "             \"sub_number_decreasing_0\",\n",
    "             \"sub_number_decreasing_10\",\n",
    "             \"sub_number_decreasing_20\",\n",
    "             \"sub_number_decreasing_50\",\n",
    "             \"sub_number_decreasing_100\",\n",
    "             \"tot_new_lesions\",\n",
    "             \"tot_lost_lesions\",\n",
    "             \"inf_new_lesions\",\n",
    "             \"inf_lost_lesions\",\n",
    "             \"jux_new_lesions\",\n",
    "             \"jux_lost_lesions\",\n",
    "             \"per_new_lesions\",\n",
    "             \"per_lost_lesions\",\n",
    "             \"sub_new_lesions\",\n",
    "             \"sub_lost_lesions\",\n",
    "             \"lesion\",\n",
    "             \"in_both\",\n",
    "             \"overlap\",\n",
    "             \"volume_change\",\n",
    "             \"change_in_lesion_type\"]\n",
    "analysis = {}\n",
    "for item in data_cols:\n",
    "    analysis[item] = []"
   ]
  },
  {
   "cell_type": "code",
   "execution_count": 52,
   "metadata": {
    "collapsed": false
   },
   "outputs": [
    {
     "name": "stdout",
     "output_type": "stream",
     "text": [
      "['mk1' 'mk1' 'mk1' 'mk2' 'mk2' 'mk2' 'mk3' 'mk3' 'mk3' 'mk4' 'mk4' 'mk4']\n",
      "mk1 [25  1  5]\n",
      "mk2 [ 7  4 27]\n",
      "mk3 [10 24 19]\n",
      "mk4 [14 13  4]\n"
     ]
    }
   ],
   "source": [
    "test = {\"mkid\" : [\"mk1\",\"mk2\",\"mk3\",\"mk4\",\"mk1\",\"mk2\",\"mk3\",\"mk4\",\"mk1\",\"mk2\",\"mk3\",\"mk4\"],\n",
    "        \"mkeid\" : [\"mke009\",\"mke002\",\"mke003\",\"mke004\",\"mke005\",\"mke006\",\"mke007\",\"mke008\",\n",
    "                   \"mke001\",\"mke010\",\"mke011\",\"mke012\"],\n",
    "        \"tot_les\" : [5,7,10,14,1,4,24,13,25,27,19,4],\n",
    "       }\n",
    "testdf = pd.DataFrame(test, columns=[\"mkid\",\"mkeid\",\"tot_les\"]).sort_values(by=['mkid','mkeid'])\n",
    "ids = testdf.mkid.values\n",
    "print ids\n",
    "for x in range(0,len(ids),3):\n",
    "    val = testdf['mkid']==ids[x]\n",
    "    print ids[x], testdf[val].tot_les.values\n"
   ]
  },
  {
   "cell_type": "code",
   "execution_count": null,
   "metadata": {
    "collapsed": true
   },
   "outputs": [],
   "source": []
  }
 ],
 "metadata": {
  "kernelspec": {
   "display_name": "Python 2",
   "language": "python",
   "name": "python2"
  },
  "language_info": {
   "codemirror_mode": {
    "name": "ipython",
    "version": 2
   },
   "file_extension": ".py",
   "mimetype": "text/x-python",
   "name": "python",
   "nbconvert_exporter": "python",
   "pygments_lexer": "ipython2",
   "version": "2.7.11"
  }
 },
 "nbformat": 4,
 "nbformat_minor": 0
}
