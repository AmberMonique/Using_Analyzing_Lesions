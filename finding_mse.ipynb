{
 "cells": [
  {
   "cell_type": "code",
   "execution_count": 3,
   "metadata": {
    "collapsed": false
   },
   "outputs": [
    {
     "name": "stderr",
     "output_type": "stream",
     "text": [
      "usage: __main__.py [-h] [-m ms####]\n",
      "__main__.py: error: unrecognized arguments: -f /run/user/3654/jupyter/kernel-c2d1d2be-0967-45c9-badd-4cda684a87e9.json\n"
     ]
    },
    {
     "ename": "SystemExit",
     "evalue": "2",
     "output_type": "error",
     "traceback": [
      "An exception has occurred, use %tb to see the full traceback.\n",
      "\u001b[1;31mSystemExit\u001b[0m\u001b[1;31m:\u001b[0m 2\n"
     ]
    },
    {
     "name": "stderr",
     "output_type": "stream",
     "text": [
      "To exit: use 'exit', 'quit', or Ctrl-D.\n"
     ]
    }
   ],
   "source": [
    "import pandas as pd\n",
    "import argparse\n",
    "import numpy as np\n",
    "\n",
    "parser = argparse.ArgumentParser(description=\"Input an msID and the mseIDs with timepoints will output\")\n",
    "parser.add_argument(\"-m\",\"--ms\",\n",
    "                    dest=\"ms\",\n",
    "                    type=str,\n",
    "                    default=[],\n",
    "                    metavar=\"ms####\",\n",
    "                    action=\"append\",\n",
    "                    help=\"import one or more msIDs using the format msIDs\")\n",
    "args = parser.parse_args()\n",
    "\n",
    "if args.ms == []:\n",
    "    raise parser.error(\"No msIDs inputted\")\n",
    "else:\n",
    "    subjects = args.ms\n",
    "\n",
    "info = pd.DataFrame.from_csv(\"/data/henry1/keshavan/lesion_seg/administrative.csv\")\n",
    "\n",
    "for num in range(len(subjects)):\n",
    "    ind_data = info[info['msid'] == subjects[num]]\n",
    "    trunc_data = ind_data[['msid','mse','timepoint']]\n",
    "    data = trunc_data.values\n",
    "    print \"Here is the data for\", subjects[num]\n",
    "    for count in range(len(data)):\n",
    "        print \"timepoint:\", data[count][2], \"mseID:\", data[count][1]\n",
    "    print"
   ]
  },
  {
   "cell_type": "code",
   "execution_count": null,
   "metadata": {
    "collapsed": true
   },
   "outputs": [],
   "source": []
  }
 ],
 "metadata": {
  "kernelspec": {
   "display_name": "Python 2",
   "language": "python",
   "name": "python2"
  },
  "language_info": {
   "codemirror_mode": {
    "name": "ipython",
    "version": 2
   },
   "file_extension": ".py",
   "mimetype": "text/x-python",
   "name": "python",
   "nbconvert_exporter": "python",
   "pygments_lexer": "ipython2",
   "version": "2.7.11"
  }
 },
 "nbformat": 4,
 "nbformat_minor": 0
}
